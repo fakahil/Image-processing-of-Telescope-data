{
 "cells": [
  {
   "cell_type": "markdown",
   "metadata": {},
   "source": [
    "# Computing Exit Pupil Size of an optical system"
   ]
  },
  {
   "cell_type": "markdown",
   "metadata": {},
   "source": [
    "## When working with wavefront aberrations, understanding the pupil properties is important. According to Fourier Optics, the wavefront is defined in the Exit pupil system which is the Fourier Transform of the PSF. We can't perceive the pupil plane as a physical one, we have to think about it in Terms of Fourier plane."
   ]
  },
  {
   "cell_type": "markdown",
   "metadata": {},
   "source": [
    "## The maximum frequency which the optical system can pass correspond to the smallest object a telescope can resolve and is proportional to the numerical aperture (NA) of the telescope.\n",
    "\n",
    " <img src=\"NA.png\">"
   ]
  },
  {
   "cell_type": "markdown",
   "metadata": {},
   "source": [
    "## The NA is simply the ratio of the diameter of the aperture over the focal length\n",
    "$\n",
    "NA (rad) = \\frac{D}{f}\n",
    "$"
   ]
  },
  {
   "cell_type": "markdown",
   "metadata": {},
   "source": [
    "## The maximum frequency is equal to $k\\times NA$ with $k = \\frac{2\\times \\pi}{\\lambda}$"
   ]
  },
  {
   "cell_type": "markdown",
   "metadata": {},
   "source": [
    "## If we know the sampling size in the plane of the Exit pupil, we can infer the size (in pixels) of the pupil. The sampling can be inferred using Shannon sampling in FT, if the sampling in the PSF plane is $\\Delta x$ and the size of the image is $N$ then the sampling size is $\\frac{2\\times \\pi}{N\\times \\Delta x}$"
   ]
  },
  {
   "cell_type": "markdown",
   "metadata": {},
   "source": [
    "## Dividing the maximum frequency by the sampling size yields to:\n",
    "$\\frac{D\\times \\Delta x \\times N }{2\\times f}$\n",
    "### the factor 2 in the denominator is to compute the radius which is half of the pupil size"
   ]
  },
  {
   "cell_type": "markdown",
   "metadata": {},
   "source": [
    "## For the above equation to be in pixels, you should respect the units:\n",
    "### The diameter D and focal length  f and pixel size $\\Delta x$ should be in the same unit (mm for example) \n"
   ]
  },
  {
   "cell_type": "code",
   "execution_count": null,
   "metadata": {},
   "outputs": [],
   "source": []
  }
 ],
 "metadata": {
  "kernelspec": {
   "display_name": "Python 2",
   "language": "python",
   "name": "python2"
  },
  "language_info": {
   "codemirror_mode": {
    "name": "ipython",
    "version": 2
   },
   "file_extension": ".py",
   "mimetype": "text/x-python",
   "name": "python",
   "nbconvert_exporter": "python",
   "pygments_lexer": "ipython2",
   "version": "2.7.12"
  }
 },
 "nbformat": 4,
 "nbformat_minor": 2
}

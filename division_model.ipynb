{
 "cells": [
  {
   "cell_type": "markdown",
   "metadata": {},
   "source": [
    "# Here I will follow the method of Wang using the division model to estimate both, the distortion center and distortion coefficient"
   ]
  },
  {
   "cell_type": "code",
   "execution_count": 1,
   "metadata": {},
   "outputs": [],
   "source": [
    "import numpy as np\n",
    "import pyfits\n",
    "import matplotlib.pyplot as plt\n",
    "from scipy.optimize import curve_fit\n",
    "import matplotlib.ticker as mtick"
   ]
  },
  {
   "cell_type": "code",
   "execution_count": 2,
   "metadata": {},
   "outputs": [
    {
     "data": {
      "image/png": "[encoded data removed]",
      "text/plain": [
       "<matplotlib.figure.Figure at 0x7fb65d344a10>"
      ]
     },
     "metadata": {
      "needs_background": "light"
     },
     "output_type": "display_data"
    }
   ],
   "source": [
    "import os\n",
    "p = os.getcwd()\n",
    "fig = plt.figure(figsize=(12,8))\n",
    "lines = np.loadtxt(p+'/dont_touch/centers_python_lines_circles')\n",
    "columns = np.loadtxt(p+'/dont_touch/centers_python_columns_circles')\n",
    "plt.plot(lines[:,0], lines[:,1],'rx')\n",
    "plt.xlim(0,2048)\n",
    "plt.ylim(0,2048)\n",
    "plt.title('Calibration image',fontsize=22)\n",
    "plt.show()"
   ]
  },
  {
   "cell_type": "code",
   "execution_count": 3,
   "metadata": {},
   "outputs": [],
   "source": [
    "LINES = []; LINES.append(lines[0:5]); LINES.append(lines[5:10]);LINES.append(lines[10:15]); LINES.append(lines[15:20]);LINES.append(lines[20:25]) "
   ]
  },
  {
   "cell_type": "code",
   "execution_count": 4,
   "metadata": {},
   "outputs": [],
   "source": [
    "COLUMNS = []; COLUMNS.append(columns[0:5]); COLUMNS.append(columns[5:10]);COLUMNS.append(columns[10:15]);COLUMNS.append(columns[15:20]);  COLUMNS.append(columns[20:25])\n"
   ]
  },
  {
   "cell_type": "code",
   "execution_count": 9,
   "metadata": {},
   "outputs": [],
   "source": [
    "image = pyfits.getdata('calibration_circles.fits')\n",
    "Ny, Nx = image.shape\n",
    "i,j = np.indices([Ny,Nx])\n",
    "center = np.array([(i.max()-i.min())/2.0, (j.max()-j.min())/2.0])\n",
    "xc = center[1]\n",
    "yc = center[0]"
   ]
  },
  {
   "cell_type": "markdown",
   "metadata": {},
   "source": [
    "# Trying to fit circles to few data points result in huge values"
   ]
  },
  {
   "cell_type": "code",
   "execution_count": 60,
   "metadata": {},
   "outputs": [],
   "source": [
    "def circle(x,y,xc,yc,R):\n",
    "    return (x-xc)**2+(y-yc)**2 - R**2\n",
    "\n",
    "def fit(c,x,y):\n",
    "    return circle(x,y,*c)"
   ]
  },
  {
   "cell_type": "code",
   "execution_count": 67,
   "metadata": {},
   "outputs": [
    {
     "name": "stdout",
     "output_type": "stream",
     "text": [
      "[   215.7540533   89966.17780849  89754.17518259]\n",
      "[   -747.75344372  207743.12501348  207173.90975076]\n",
      "[   25674.22247149 -3014825.57817438  3015866.86141152]\n",
      "[   2343.79074769 -173169.00000199  174478.72755695]\n",
      "[  1564.01846642 -76955.46288335  78624.76738746]\n"
     ]
    }
   ],
   "source": [
    "from scipy.optimize import minimize\n",
    "\n",
    "for line in LINES:\n",
    "    x = line[:,0]; y = line[:,1]\n",
    "    \n",
    "    estimate = x.mean(),y.mean(),10\n",
    "    center, pcov  = optimize.leastsq(fit, estimate, args=(x,y))\n",
    "    print center\n",
    "    \n"
   ]
  },
  {
   "cell_type": "markdown",
   "metadata": {},
   "source": [
    "# Parametrization"
   ]
  },
  {
   "cell_type": "code",
   "execution_count": 208,
   "metadata": {},
   "outputs": [
    {
     "name": "stdout",
     "output_type": "stream",
     "text": [
      "[ -2.46044692e-321   1.05842695e-318   4.43130052e-316  -9.39474063e-314]\n",
      "[  1.06224114e-321   1.60637540e-318  -4.43555042e-316   2.52727907e-313]\n",
      "[ -3.06320700e-322   1.65163922e-317  -1.94300748e-315   1.81115556e-312]\n",
      "[ -3.21142670e-321   1.50622137e-317  -1.11328418e-315   1.44595163e-312]\n",
      "[  5.33590898e-321  -1.66884259e-317   8.20967940e-316  -1.37226545e-312]\n"
     ]
    }
   ],
   "source": [
    "import scipy\n",
    "from scipy.optimize import curve_fit, least_squares, leastsq, minimize,basinhopping,differential_evolution, OptimizeResult\n",
    "def Minimize(params,x,y):\n",
    "    a1=params[0]; a4=params[1]; theta=params[2]\n",
    "    p = a1*(x**2+y**2) + np.sqrt(1+4*a1*a4)*(x*np.cos(theta)+y*np.sin(theta)) + a4\n",
    "    d = p / (1+np.sqrt(1+4*a1*p))\n",
    "    return np.sum(d**2)\n",
    "\n",
    "def Con(params):\n",
    " a1 = params[0]\n",
    " a2 = params[1]\n",
    " a3 = params[2]\n",
    " a4 = params[3]\n",
    " \n",
    " return a2**2+a3**3-4*a1*a4-1\n",
    "\n",
    "cons = ({'type':'ineq','fun':Con})\n",
    "\n",
    "\n",
    "def Minimize2(params,x,y):\n",
    "    a1 = params[0]\n",
    "    a2 = params[1]\n",
    "    a3 = params[2]\n",
    "    a4 = params[3]\n",
    "    d = a1*(x**2+y**2) + a2*x + a3*y+a4\n",
    "    return np.sum(d**2)\n",
    "\n",
    "def curve_fitt(params,x,y):\n",
    "   \n",
    "    a1 = params[0]\n",
    "    a2 = params[1]\n",
    "    a3 = params[2]\n",
    "    a4 = params[3]\n",
    "    d = a1*(x**2+y**2) + a2*x + a3*y+a4\n",
    "    return d\n",
    "\n",
    "B_3 = [ -0.00239805 , 0.00361594 , 0.00849714  ,0.01342895 , 0.0198904 ]\n",
    "C_3 = [  212.25993656 ,  570.56249866  , 932.00360886  ,1293.98634616  ,1653.74864249]\n",
    "\n",
    "n = 0\n",
    "popt = np.zeros((5,4))\n",
    "for line in LINES:\n",
    "    lam = -1e6\n",
    "    #dist= 8e-8\n",
    "    x0 = y0 = 1000\n",
    "    params =np.polyfit(x,y, 1)\n",
    "    #params = np.array([B_3[n]*(3*dist*C_3[n]**2 +1), C_3[n]*(dist*C_3[n]**2+1)])\n",
    "    k = params[0]; b = params[1]\n",
    "    A = k/b*lam - 2*x0\n",
    "    B = -1/b*lam - 2*y0\n",
    "    C = x0**2 + y0**2 -(k/b*lam)*x0 + (1/b*lam)*y0+1/lam\n",
    "    t1 = 1/np.sqrt(A**2+B**2-4*C)\n",
    "    t2 = A*t1\n",
    "    t3 = B*t1\n",
    "    t4 = C*t1\n",
    "    x = line[:,0]; y = line[:,1]\n",
    "    p0=[t1,t2,t3,t4]\n",
    "    #mini = scipy.optimize.minimize(Minimize2,p0,args=(x,y),method='COBYLA')#,constraints=cons)\n",
    "    #mini = scipy.optimize.minimize(Minimize,p0,args=(x,y))\n",
    "    mini = leastsq(curve_fitt,p0,args=(x,y))\n",
    "    popt[n] = mini[0]\n",
    "    print mini[0] \n",
    "    n= n+1   \n",
    "\n",
    "    \n",
    "\n"
   ]
  },
  {
   "cell_type": "code",
   "execution_count": 209,
   "metadata": {},
   "outputs": [
    {
     "data": {
      "text/plain": [
       "array([ -2.46044692e-321,   1.06224114e-321,  -3.06320700e-322,\n",
       "        -3.21142670e-321,   5.33590898e-321])"
      ]
     },
     "execution_count": 209,
     "metadata": {},
     "output_type": "execute_result"
    }
   ],
   "source": [
    "popt[:,0]"
   ]
  },
  {
   "cell_type": "code",
   "execution_count": 210,
   "metadata": {},
   "outputs": [],
   "source": [
    "A = popt[:,1]/popt[:,0]; B = popt[:,2]/popt[:,0]; C = popt[:,3]/popt[:,0]\n",
    "temp1 = np.array([[A[1]-A[2],A[1]-A[3]], [B[1]-B[2],B[1]-B[3]]])\n",
    "temp2 = np.array([C[2]-C[1],C[3]-C[1]])\n",
    "p0 = np.linalg.solve(temp1,temp2) \n",
    "    "
   ]
  },
  {
   "cell_type": "code",
   "execution_count": 211,
   "metadata": {},
   "outputs": [
    {
     "data": {
      "text/plain": [
       "array([-10953161.87383553,  96896122.55058558])"
      ]
     },
     "execution_count": 211,
     "metadata": {},
     "output_type": "execute_result"
    }
   ],
   "source": [
    "\n",
    "p0"
   ]
  },
  {
   "cell_type": "code",
   "execution_count": null,
   "metadata": {},
   "outputs": [],
   "source": []
  },
  {
   "cell_type": "code",
   "execution_count": null,
   "metadata": {},
   "outputs": [],
   "source": []
  }
 ],
 "metadata": {
  "kernelspec": {
   "display_name": "Python 2",
   "language": "python",
   "name": "python2"
  },
  "language_info": {
   "codemirror_mode": {
    "name": "ipython",
    "version": 2
   },
   "file_extension": ".py",
   "mimetype": "text/x-python",
   "name": "python",
   "nbconvert_exporter": "python",
   "pygments_lexer": "ipython2",
   "version": "2.7.12"
  }
 },
 "nbformat": 4,
 "nbformat_minor": 2
}
